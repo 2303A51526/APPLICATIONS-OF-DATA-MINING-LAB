{
  "nbformat": 4,
  "nbformat_minor": 0,
  "metadata": {
    "colab": {
      "provenance": [],
      "authorship_tag": "ABX9TyN5tnYvU4qxICHuN9aKqxRb",
      "include_colab_link": true
    },
    "kernelspec": {
      "name": "python3",
      "display_name": "Python 3"
    },
    "language_info": {
      "name": "python"
    }
  },
  "cells": [
    {
      "cell_type": "markdown",
      "metadata": {
        "id": "view-in-github",
        "colab_type": "text"
      },
      "source": [
        "<a href=\"https://colab.research.google.com/github/2303A51526/APPLICATIONS-OF-DATA-MINING-LAB/blob/main/ADM_A6.ipynb\" target=\"_parent\"><img src=\"https://colab.research.google.com/assets/colab-badge.svg\" alt=\"Open In Colab\"/></a>"
      ]
    },
    {
      "cell_type": "code",
      "source": [
        "import pandas as pd\n",
        "from sklearn.preprocessing import LabelEncoder, OneHotEncoder\n",
        "data={'A', 'B', 'C', 'A', 'D', 'E', 'F', 'G', 'H', 'A'}\n",
        "df = pd.DataFrame(data, columns=['Category'])\n",
        "label_encoder=LabelEncoder()\n",
        "df['label_Encoded']=label_encoder.fit_transform(df['Category'])\n",
        "one_hot_encoded=  pd.get_dummies(df['Category'])\n",
        "df=pd.concat([df,one_hot_encoded],axis=1)\n",
        "print(df)"
      ],
      "metadata": {
        "colab": {
          "base_uri": "https://localhost:8080/"
        },
        "id": "mStU17spPSxm",
        "outputId": "0827f8e0-8bff-4be2-c35c-6fd21059bed1"
      },
      "execution_count": 5,
      "outputs": [
        {
          "output_type": "stream",
          "name": "stdout",
          "text": [
            "  Category  label_Encoded      A      B      C      D      E      F      G  \\\n",
            "0        E              4  False  False  False  False   True  False  False   \n",
            "1        H              7  False  False  False  False  False  False  False   \n",
            "2        F              5  False  False  False  False  False   True  False   \n",
            "3        A              0   True  False  False  False  False  False  False   \n",
            "4        C              2  False  False   True  False  False  False  False   \n",
            "5        D              3  False  False  False   True  False  False  False   \n",
            "6        G              6  False  False  False  False  False  False   True   \n",
            "7        B              1  False   True  False  False  False  False  False   \n",
            "\n",
            "       H  \n",
            "0  False  \n",
            "1   True  \n",
            "2  False  \n",
            "3  False  \n",
            "4  False  \n",
            "5  False  \n",
            "6  False  \n",
            "7  False  \n"
          ]
        }
      ]
    },
    {
      "cell_type": "code",
      "source": [],
      "metadata": {
        "id": "yBRpMQ1abFcF"
      },
      "execution_count": null,
      "outputs": []
    },
    {
      "cell_type": "code",
      "source": [
        "from datetime import datetime\n",
        "data2={'Name':['vasu', 'Raju', 'Wishram', 'Shiva'], 'DOB':['2005-07-07', '2004-07-07', '2005-09-28', '2005-07-03']}\n",
        "df2=pd.DataFrame(data2)\n",
        "df2['Date_of_Birth'] = pd.to_datetime(df2['DOB'])\n",
        "current_year = datetime.now().year\n",
        "df2['Age'] = current_year - df2['Date_of_Birth'].dt.year\n",
        "print(df2)"
      ],
      "metadata": {
        "colab": {
          "base_uri": "https://localhost:8080/"
        },
        "id": "5fYAATWDYiD1",
        "outputId": "67d38596-9293-4ed5-82d2-4bd2c268e1a6"
      },
      "execution_count": 6,
      "outputs": [
        {
          "output_type": "stream",
          "name": "stdout",
          "text": [
            "      Name         DOB Date_of_Birth  Age\n",
            "0     vasu  2005-07-07    2005-07-07   20\n",
            "1     Raju  2004-07-07    2004-07-07   21\n",
            "2  Wishram  2005-09-28    2005-09-28   20\n",
            "3    Shiva  2005-07-03    2005-07-03   20\n"
          ]
        }
      ]
    },
    {
      "cell_type": "code",
      "source": [],
      "metadata": {
        "id": "WjF4XDkcbKH5"
      },
      "execution_count": null,
      "outputs": []
    },
    {
      "cell_type": "code",
      "source": [
        "data3={'Names':['Vasu', 'Wishram', 'Jeevan', 'Raju'],\n",
        "       'Marks':[98,69,41,42]}\n",
        "df3=pd.DataFrame(data3)\n",
        "grouped = df3.groupby('Names').agg({'Marks': ['sum', 'mean']})\n",
        "print(\"Grouped Data:\\n\", grouped)\n",
        "pivot = df3.pivot_table(index='Names', values='Marks', aggfunc=['sum', 'mean'])\n",
        "print(\"\\nPivot Table:\\n\", pivot)"
      ],
      "metadata": {
        "colab": {
          "base_uri": "https://localhost:8080/"
        },
        "id": "srtIuSbcYxaw",
        "outputId": "4b89762a-9000-4aea-a9cd-575c8955e755"
      },
      "execution_count": 8,
      "outputs": [
        {
          "output_type": "stream",
          "name": "stdout",
          "text": [
            "Grouped Data:\n",
            "         Marks      \n",
            "          sum  mean\n",
            "Names              \n",
            "Jeevan     41  41.0\n",
            "Raju       42  42.0\n",
            "Vasu       98  98.0\n",
            "Wishram    69  69.0\n",
            "\n",
            "Pivot Table:\n",
            "           sum  mean\n",
            "        Marks Marks\n",
            "Names              \n",
            "Jeevan     41  41.0\n",
            "Raju       42  42.0\n",
            "Vasu       98  98.0\n",
            "Wishram    69  69.0\n"
          ]
        }
      ]
    }
  ]
}